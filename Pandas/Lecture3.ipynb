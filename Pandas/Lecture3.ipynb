{
 "cells": [
  {
   "cell_type": "code",
   "execution_count": 1,
   "id": "facd9670-c4c6-4634-ade9-0d88627c5565",
   "metadata": {},
   "outputs": [],
   "source": [
    "import pandas as pd"
   ]
  },
  {
   "cell_type": "code",
   "execution_count": 3,
   "id": "19830b23-4776-4d66-831a-27588ccda551",
   "metadata": {},
   "outputs": [
    {
     "name": "stdout",
     "output_type": "stream",
     "text": [
      "   Index Customer Id First Name Last Name        Company       City Country  \\\n",
      "0      1       IN001      Aarav    Sharma        Infosys  Bengaluru   India   \n",
      "1      2       IN002      Priya     Patel            TCS     Mumbai   India   \n",
      "2      3       IN003      Rahul     Verma          Wipro  Hyderabad   India   \n",
      "3      4       IN004      Sneha     Reddy            HCL    Chennai   India   \n",
      "4      5       IN005     Vikram     Mehta  Tech Mahindra       Pune   India   \n",
      "\n",
      "      Phone 1       Phone 2              Email Subscription Date  \\\n",
      "0 -9876543119 -8.765432e+09  aarav@infosys.com        12-05-2023   \n",
      "1 -9123456698           NaN      priya@tcs.com        07-11-2022   \n",
      "2 -9988776564 -9.666554e+09    rahul@wipro.com        20-02-2023   \n",
      "3 -9090908999           NaN      sneha@hcl.com        18-08-2022   \n",
      "4 -8877665453 -7.766554e+09   vikram@techm.com        03-07-2023   \n",
      "\n",
      "                        Website  \n",
      "0       https://www.infosys.com  \n",
      "1           https://www.tcs.com  \n",
      "2         https://www.wipro.com  \n",
      "3       https://www.hcltech.com  \n",
      "4  https://www.techmahindra.com  \n"
     ]
    }
   ],
   "source": [
    "obs_data = pd.read_csv('./indian_customer_data.csv')\n",
    "print(obs_data)"
   ]
  },
  {
   "cell_type": "code",
   "execution_count": 4,
   "id": "b501e637-6bc4-4c4b-a0ca-84167bfdd2e2",
   "metadata": {},
   "outputs": [
    {
     "data": {
      "text/plain": [
       "0          Infosys\n",
       "1              TCS\n",
       "2            Wipro\n",
       "3              HCL\n",
       "4    Tech Mahindra\n",
       "Name: Company, dtype: object"
      ]
     },
     "execution_count": 4,
     "metadata": {},
     "output_type": "execute_result"
    }
   ],
   "source": [
    "obs_data.Company"
   ]
  },
  {
   "cell_type": "code",
   "execution_count": 5,
   "id": "4543489e-9a0c-471c-a9bf-bf9f0f2c9c1c",
   "metadata": {},
   "outputs": [
    {
     "data": {
      "text/plain": [
       "0    Bengaluru\n",
       "1       Mumbai\n",
       "2    Hyderabad\n",
       "3      Chennai\n",
       "4         Pune\n",
       "Name: City, dtype: object"
      ]
     },
     "execution_count": 5,
     "metadata": {},
     "output_type": "execute_result"
    }
   ],
   "source": [
    "obs_data.City"
   ]
  },
  {
   "cell_type": "code",
   "execution_count": 8,
   "id": "e91aec7c-d67f-4d93-9c8f-43d29607df94",
   "metadata": {},
   "outputs": [
    {
     "data": {
      "text/plain": [
       "0    IN001\n",
       "1    IN002\n",
       "2    IN003\n",
       "3    IN004\n",
       "4    IN005\n",
       "Name: Customer Id, dtype: object"
      ]
     },
     "execution_count": 8,
     "metadata": {},
     "output_type": "execute_result"
    }
   ],
   "source": [
    "obs_data['Customer Id']"
   ]
  },
  {
   "cell_type": "code",
   "execution_count": null,
   "id": "3d480bc6-dda2-40aa-ac33-3a568559a624",
   "metadata": {},
   "outputs": [],
   "source": []
  }
 ],
 "metadata": {
  "kernelspec": {
   "display_name": "Python 3 (ipykernel)",
   "language": "python",
   "name": "python3"
  },
  "language_info": {
   "codemirror_mode": {
    "name": "ipython",
    "version": 3
   },
   "file_extension": ".py",
   "mimetype": "text/x-python",
   "name": "python",
   "nbconvert_exporter": "python",
   "pygments_lexer": "ipython3",
   "version": "3.13.2"
  }
 },
 "nbformat": 4,
 "nbformat_minor": 5
}
