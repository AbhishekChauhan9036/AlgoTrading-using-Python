{
 "cells": [
  {
   "cell_type": "code",
   "execution_count": 6,
   "id": "fb662d34-49a4-4ac7-a14a-1f00d811963e",
   "metadata": {},
   "outputs": [
    {
     "name": "stdout",
     "output_type": "stream",
     "text": [
      "yfinance is working!\n"
     ]
    }
   ],
   "source": [
    "import yfinance as yf\n",
    "print(\"yfinance is working!\")"
   ]
  },
  {
   "cell_type": "code",
   "execution_count": 7,
   "id": "5db14134-3bfa-4960-bee3-0eb6d95fa054",
   "metadata": {},
   "outputs": [
    {
     "name": "stderr",
     "output_type": "stream",
     "text": [
      "C:\\Users\\tourist\\AppData\\Local\\Temp\\ipykernel_16352\\836383274.py:9: FutureWarning: YF.download() has changed argument auto_adjust default to True\n",
      "  price_data = yf.download(tickers, start=start_date, end=end_date)[\"Close\"]\n",
      "[*********************100%***********************]  5 of 5 completed\n"
     ]
    },
    {
     "name": "stdout",
     "output_type": "stream",
     "text": [
      "Optimized Portfolio Weights:\n",
      "AAPL: 13.27%\n",
      "AMZN: 0.00%\n",
      "GOOG: 0.00%\n",
      "META: 86.73%\n",
      "MSFT: 0.00%\n",
      "Expected annual return: 169.9%\n",
      "Annual volatility: 36.0%\n",
      "Sharpe Ratio: 4.71\n"
     ]
    }
   ],
   "source": [
    "import yfinance as yf\n",
    "import pandas as pd\n",
    "from pypfopt import EfficientFrontier, risk_models, expected_returns\n",
    "\n",
    "tickers = [\"AAPL\", \"MSFT\", \"GOOG\", \"AMZN\", \"META\"]\n",
    "start_date = \"2023-01-01\"\n",
    "end_date = \"2024-01-01\"\n",
    "\n",
    "price_data = yf.download(tickers, start=start_date, end=end_date)[\"Close\"]\n",
    "price_data = price_data.dropna()\n",
    "\n",
    "mu = expected_returns.mean_historical_return(price_data)\n",
    "S = risk_models.sample_cov(price_data)\n",
    "\n",
    "ef = EfficientFrontier(mu, S)\n",
    "weights = ef.max_sharpe()\n",
    "cleaned_weights = ef.clean_weights()\n",
    "\n",
    "print(\"Optimized Portfolio Weights:\")\n",
    "for ticker, weight in cleaned_weights.items():\n",
    "    print(f\"{ticker}: {weight:.2%}\")\n",
    "\n",
    "expected_annual_return, annual_volatility, sharpe_ratio = ef.portfolio_performance(verbose=True)"
   ]
  },
  {
   "cell_type": "code",
   "execution_count": null,
   "id": "d3dfd0b3-0cb3-4457-bc49-a63d3a928fde",
   "metadata": {},
   "outputs": [],
   "source": []
  }
 ],
 "metadata": {
  "kernelspec": {
   "display_name": "Python 3.10 (yfinance)",
   "language": "python",
   "name": "python310"
  },
  "language_info": {
   "codemirror_mode": {
    "name": "ipython",
    "version": 3
   },
   "file_extension": ".py",
   "mimetype": "text/x-python",
   "name": "python",
   "nbconvert_exporter": "python",
   "pygments_lexer": "ipython3",
   "version": "3.10.0"
  }
 },
 "nbformat": 4,
 "nbformat_minor": 5
}
